{
 "cells": [
  {
   "cell_type": "code",
   "execution_count": 3,
   "id": "e3790e65",
   "metadata": {},
   "outputs": [
    {
     "name": "stdout",
     "output_type": "stream",
     "text": [
      "1\n",
      "2\n"
     ]
    },
    {
     "data": {
      "text/plain": [
       "True"
      ]
     },
     "execution_count": 3,
     "metadata": {},
     "output_type": "execute_result"
    }
   ],
   "source": [
    "t1 = \"(hi)\"\n",
    "t2 = \"(hi)\"\n",
    "print(\"1\")\n",
    "t1 is t2\n",
    "#False\n",
    "t1 = \"hi\"\n",
    "t2 = \"hi\"\n",
    "print(\"2\")\n",
    "t1 is t2\n",
    "#True\n"
   ]
  },
  {
   "cell_type": "code",
   "execution_count": null,
   "id": "a5694afb",
   "metadata": {},
   "outputs": [],
   "source": [
    ">>> listVar = [\"(hi)\", \"(hi)\"]\n",
    ">>> listVar[0] is listVar[1]\n",
    "True\n",
    ">>> l = []\n",
    ">>> l.append(\"(hi)\")\n",
    ">>> l.append(\"(hi)\")\n",
    ">>> l\n",
    "['(hi)', '(hi)']\n",
    ">>> l[0] is l[1]\n",
    "False\n",
    ">>> t = \"(hi)\"\n",
    ">>> l.append(t)\n",
    ">>> l.append(t)\n",
    ">>> l\n",
    "['(hi)', '(hi)', '(hi)', '(hi)']\n",
    ">>> l[0] is l[2]\n",
    "False\n",
    ">>> l[3] is l[2]\n",
    "True"
   ]
  },
  {
   "cell_type": "code",
   "execution_count": null,
   "id": "cfa98040",
   "metadata": {},
   "outputs": [],
   "source": []
  }
 ],
 "metadata": {
  "kernelspec": {
   "display_name": "Python 3 (ipykernel)",
   "language": "python",
   "name": "python3"
  },
  "language_info": {
   "codemirror_mode": {
    "name": "ipython",
    "version": 3
   },
   "file_extension": ".py",
   "mimetype": "text/x-python",
   "name": "python",
   "nbconvert_exporter": "python",
   "pygments_lexer": "ipython3",
   "version": "3.10.6"
  }
 },
 "nbformat": 4,
 "nbformat_minor": 5
}
